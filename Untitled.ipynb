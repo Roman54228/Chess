{
 "cells": [
  {
   "cell_type": "code",
   "execution_count": 73,
   "id": "19363f03",
   "metadata": {},
   "outputs": [
    {
     "data": {
      "text/plain": [
       "[[0, 1, 0, 1, 0, 1, 0, 1, 1],\n",
       " [1, 0, 1, 0, 1, 0, 1, 0, 2],\n",
       " [0, 1, 0, 1, 0, 1, 0, 1, 3],\n",
       " [1, 0, 1, 0, 1, 0, 1, 0, 4],\n",
       " [0, 1, 0, 1, 0, 1, 0, 1, 5],\n",
       " [1, 0, 1, 0, 1, 0, 1, 0, 6],\n",
       " [0, 1, 0, 1, 0, 1, 0, 1, 7],\n",
       " [1, 0, 1, 0, 1, 0, 1, 0, 8],\n",
       " ['A', 'B', 'C', 'D', 'E', 'F', 'G', 'H', 9]]"
      ]
     },
     "execution_count": 73,
     "metadata": {},
     "output_type": "execute_result"
    }
   ],
   "source": [
    "\n",
    "\n",
    "table = [[0 if (i + j) % 2 == 0 else 1 for i in range(8)] for j in range (8)]\n",
    "table.append(['A', 'B', 'C', 'D', 'E', 'F', 'G', 'H'])\n",
    "for i in range(len(table)):\n",
    "    table[i].append(i + 1)\n",
    "table\n",
    "#cell = 'A1'\n"
   ]
  },
  {
   "cell_type": "code",
   "execution_count": 72,
   "id": "a03da999",
   "metadata": {},
   "outputs": [],
   "source": [
    "def chess_board_cell_color(cell1, cell2):\n",
    "    \n",
    "    pass"
   ]
  },
  {
   "cell_type": "code",
   "execution_count": 99,
   "id": "9123b778",
   "metadata": {},
   "outputs": [
    {
     "name": "stdout",
     "output_type": "stream",
     "text": [
      "True\n"
     ]
    }
   ],
   "source": [
    "cell1 = 'A1'\n",
    "cell2 = 'C3'\n",
    "r1 = int(cell1[1]) - 1\n",
    "r2 = int(cell2[1]) - 1\n",
    "for elem in table:\n",
    "    try:\n",
    "        c1 = elem.index(cell1[0])\n",
    "        c2 = elem.index(cell2[0])\n",
    "        \n",
    "    except:\n",
    "        a = 1\n",
    "\n",
    "if table[r1][c1] == table[r2][c2]:\n",
    "    print(True)\n",
    "else:\n",
    "    print(False)"
   ]
  },
  {
   "cell_type": "code",
   "execution_count": 112,
   "id": "9e7b9791",
   "metadata": {},
   "outputs": [
    {
     "name": "stdout",
     "output_type": "stream",
     "text": [
      "abcdeaa\n",
      "{('b', 1), ('e', 1), ('d', 1), ('a', 3), ('c', 1)} 1\n"
     ]
    }
   ],
   "source": [
    "s = \"abcdeaa\"\n",
    "text = s.lower()\n",
    "res = []\n",
    "count = 0\n",
    "print(text)\n",
    "for char in text:\n",
    "    res.append((char, text.count(char)))\n",
    "\n",
    "res = set(res)\n",
    "for elem in res:\n",
    "    if elem[1] > 1:\n",
    "        count += 1\n",
    "print(res, count)\n",
    "\n",
    "        "
   ]
  },
  {
   "cell_type": "code",
   "execution_count": 259,
   "id": "da0c920e",
   "metadata": {},
   "outputs": [
    {
     "name": "stdout",
     "output_type": "stream",
     "text": [
      "[101, 103]\n",
      "\n",
      "\n"
     ]
    }
   ],
   "source": [
    "n = 110\n",
    "i = 2\n",
    "k = i\n",
    "A = [True]* (n)\n",
    "for i in range(2, n):\n",
    "    if i ** 2 <= n and A[i - 1] == True:\n",
    "        k = 2 * i\n",
    "        for j in range(1, n + 1):\n",
    "            A[k - 1] = False\n",
    "            #print(k)\n",
    "            if (i*2 + j * i) > n:\n",
    "                break\n",
    "            else:\n",
    "                k =  i*2 + j * i\n",
    "#print(A)\n",
    "A[0] = False\n",
    "#print(A)\n",
    "step = 2\n",
    "m = 100\n",
    "for i in range(m,n):\n",
    "    try:\n",
    "        if A[i - 1] == True and A[i - 1] == A[i + step - 1]:\n",
    "            print([i, i + step])\n",
    "            break\n",
    "    except:\n",
    "        a = 0\n",
    "\n",
    "    \n",
    "    \n",
    "        \n",
    "        \n",
    "        \n",
    "        #print(i, end = ' ')\n",
    "print('\\n')\n",
    "\n",
    "\n",
    "        "
   ]
  },
  {
   "cell_type": "code",
   "execution_count": 246,
   "id": "c20b7c5e",
   "metadata": {},
   "outputs": [
    {
     "data": {
      "text/plain": [
       "4"
      ]
     },
     "execution_count": 246,
     "metadata": {},
     "output_type": "execute_result"
    }
   ],
   "source": [
    "int(4.5)"
   ]
  },
  {
   "cell_type": "code",
   "execution_count": 247,
   "id": "40ad7f6a",
   "metadata": {},
   "outputs": [
    {
     "data": {
      "text/plain": [
       "[3, 4, 5, 6]"
      ]
     },
     "execution_count": 247,
     "metadata": {},
     "output_type": "execute_result"
    }
   ],
   "source": [
    "a = [1,2,3,4,5,6,7]\n",
    "a[2:6]"
   ]
  },
  {
   "cell_type": "code",
   "execution_count": 270,
   "id": "7dfc3bff",
   "metadata": {},
   "outputs": [
    {
     "name": "stdout",
     "output_type": "stream",
     "text": [
      "[307, 317]\n"
     ]
    }
   ],
   "source": [
    "def step(g, m, n):\n",
    "    A = [True]* (n)\n",
    "    for i in range(2, n):\n",
    "        if i ** 2 <= n and A[i - 1] == True:\n",
    "            k = 2 * i\n",
    "            for j in range(1, n + 1):\n",
    "                A[k - 1] = False\n",
    "            #print(k)\n",
    "                if (i*2 + j * i) > n:\n",
    "                    break\n",
    "                else:\n",
    "                    k =  i*2 + j * i\n",
    "    A[0] = False\n",
    "    step = g\n",
    "    for i in range(m,n):\n",
    "            if i + step - 1 > n:\n",
    "                break\n",
    "            if A[i - 1] == True and A[i - 1] == A[i + step - 1]:\n",
    "                print([i, i + step])\n",
    "                break\n",
    "        \n",
    "step(10, 300, 400)"
   ]
  },
  {
   "cell_type": "code",
   "execution_count": 282,
   "id": "cfa22d6f",
   "metadata": {},
   "outputs": [
    {
     "name": "stdout",
     "output_type": "stream",
     "text": [
      "True\n",
      "[101, 109]\n"
     ]
    }
   ],
   "source": [
    "\n",
    "def isPrime(n):\n",
    "    d = 2\n",
    "    while d * d <= n and n % d != 0:\n",
    "        d += 1\n",
    "    return d * d > n\n",
    "n = 17\n",
    "print(isPrime(n))\n",
    "m = 100\n",
    "n = 110\n",
    "step = 8\n",
    "for i in range(m, n + 1):\n",
    "    if i + step > n:\n",
    "        break\n",
    "    if isPrime(i) and isPrime(i) == isPrime(i + step):\n",
    "        print([i, i + step])\n",
    "        break\n",
    "       \n",
    "    "
   ]
  },
  {
   "cell_type": "code",
   "execution_count": 283,
   "id": "b6928c1f",
   "metadata": {},
   "outputs": [
    {
     "data": {
      "text/plain": [
       "1"
      ]
     },
     "execution_count": 283,
     "metadata": {},
     "output_type": "execute_result"
    }
   ],
   "source": [
    "'roma'.count('r')"
   ]
  },
  {
   "cell_type": "code",
   "execution_count": 294,
   "id": "b15a8003",
   "metadata": {},
   "outputs": [
    {
     "name": "stdout",
     "output_type": "stream",
     "text": [
      "\n",
      ".\n",
      ". .\n",
      ". . .\n",
      ". . . .\n",
      ". . . . .\n",
      "\n"
     ]
    }
   ],
   "source": [
    "s = '\\n.\\n. .\\n. . .\\n. . . .\\n. . . . .\\n'\n",
    "print(s)"
   ]
  },
  {
   "cell_type": "code",
   "execution_count": 295,
   "id": "2e571c44",
   "metadata": {},
   "outputs": [
    {
     "name": "stdout",
     "output_type": "stream",
     "text": [
      "4\n",
      "8.0\n"
     ]
    }
   ],
   "source": [
    "height = s.count('\\n') - 2\n",
    "print(height)\n",
    "print( height*height*(0.5))"
   ]
  },
  {
   "cell_type": "code",
   "execution_count": 304,
   "id": "680123b1",
   "metadata": {},
   "outputs": [
    {
     "name": "stdout",
     "output_type": "stream",
     "text": [
      "[[2, 4, 6, 8], [10, 12, 14, 16, 18], [0, 4, 8]]\n"
     ]
    }
   ],
   "source": [
    "def grid_map(inp, op):\n",
    "    i = 0\n",
    "    for elem in inp:\n",
    "        inp[i] = list(map(op, elem))\n",
    "        i += 1\n",
    "    return inp\n",
    "x = [[1,2,3,4], [5,6,7,8,9], [0,2,4]]\n",
    "print(grid_map(x, lambda x: x * 2))"
   ]
  },
  {
   "cell_type": "code",
   "execution_count": null,
   "id": "254e039f",
   "metadata": {},
   "outputs": [],
   "source": []
  }
 ],
 "metadata": {
  "kernelspec": {
   "display_name": "Python 3",
   "language": "python",
   "name": "python3"
  },
  "language_info": {
   "codemirror_mode": {
    "name": "ipython",
    "version": 3
   },
   "file_extension": ".py",
   "mimetype": "text/x-python",
   "name": "python",
   "nbconvert_exporter": "python",
   "pygments_lexer": "ipython3",
   "version": "3.9.2"
  }
 },
 "nbformat": 4,
 "nbformat_minor": 5
}
